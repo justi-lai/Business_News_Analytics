{
  "nbformat": 4,
  "nbformat_minor": 0,
  "metadata": {
    "colab": {
      "provenance": [],
      "gpuType": "V28",
      "authorship_tag": "ABX9TyPN6qZjyDXwyYFD9VDybnXZ",
      "include_colab_link": true
    },
    "kernelspec": {
      "name": "python3",
      "display_name": "Python 3"
    },
    "language_info": {
      "name": "python"
    },
    "accelerator": "TPU"
  },
  "cells": [
    {
      "cell_type": "markdown",
      "metadata": {
        "id": "view-in-github",
        "colab_type": "text"
      },
      "source": [
        "<a href=\"https://colab.research.google.com/github/justi-lai/Business_News_Analytics/blob/main/main.ipynb\" target=\"_parent\"><img src=\"https://colab.research.google.com/assets/colab-badge.svg\" alt=\"Open In Colab\"/></a>"
      ]
    },
    {
      "cell_type": "code",
      "execution_count": 1,
      "metadata": {
        "id": "5P6d-1r2ePNa"
      },
      "outputs": [],
      "source": [
        "import torch\n",
        "import torch.nn as nn\n",
        "import torch.nn.functional as F\n",
        "import torch.optim as optim\n",
        "import requests\n",
        "import json\n",
        "import numpy as np\n",
        "import pandas as pd\n",
        "import string\n",
        "import random\n",
        "import tqdm\n"
      ]
    },
    {
      "cell_type": "code",
      "source": [
        "def load_data(train_data_size, valid_data_size, testing_size):\n",
        "  splits = {'train': 'sent_train.csv', 'validation': 'sent_valid.csv'}\n",
        "  df = pd.read_csv(\"hf://datasets/zeroshot/twitter-financial-news-sentiment/\" + splits[\"train\"])\n",
        "\n",
        "  data = df.to_numpy()\n",
        "  train_data = data[:int(train_data_size * len(data))]\n",
        "  valid_data = data[int(train_data_size * len(data)):int((train_data_size + valid_data_size) * len(data))]\n",
        "  test_data = data[int((train_data_size + valid_data_size) * len(data)):]\n",
        "\n",
        "  vocab = []\n",
        "  vocab.append('<unk>')\n",
        "  for i in train_data:\n",
        "    temp = i[0].translate(str.maketrans('', '', string.punctuation))\n",
        "    for j in temp.split():\n",
        "      word = j.lower()\n",
        "      if 'http' in word:\n",
        "        continue\n",
        "      if word not in vocab:\n",
        "        vocab.append(word)\n",
        "\n",
        "  return train_data, valid_data, test_data, vocab"
      ],
      "metadata": {
        "id": "jzCJxy6t1A_4"
      },
      "execution_count": 2,
      "outputs": []
    },
    {
      "cell_type": "code",
      "source": [
        "class SentimentClassifier(nn.Module):\n",
        "  def __init__(self, embedding_dim, vocab, hidden_dim, output_dim):\n",
        "    super(SentimentClassifier, self).__init__()\n",
        "    self.vocab = vocab\n",
        "    self.embedding_dim = embedding_dim\n",
        "    self.hidden_dim = hidden_dim\n",
        "    self.output_dim = output_dim\n",
        "    self.embedding = nn.Embedding(len(vocab), embedding_dim)\n",
        "    self.rnn = nn.LSTM(embedding_dim, hidden_dim, batch_first=True) # Added batch_first=True\n",
        "    self.fc = nn.Linear(hidden_dim, output_dim)\n",
        "\n",
        "  def forward(self, x):\n",
        "    # Reshape input for LSTM with batch_first=True\n",
        "    x = x.unsqueeze(0) # Add a batch dimension\n",
        "\n",
        "    embedded = self.embedding(x)\n",
        "    output, (hidden, cell) = self.rnn(embedded)\n",
        "    # hidden state shape is now (num_layers, batch_size, hidden_size)\n",
        "    prediction = self.fc(hidden[-1]) # Use the last layer's hidden state\n",
        "    # prediction shape should now be (batch_size, output_dim)\n",
        "\n",
        "    result = F.sigmoid(prediction)\n",
        "    return result\n",
        "\n",
        "  def compute_loss(self, x, y):\n",
        "    choice = torch.argmax(x).item()\n",
        "    loss = abs(choice-y.item())\n",
        "    return loss\n",
        "\n"
      ],
      "metadata": {
        "id": "LOe8tk9sBQ6S"
      },
      "execution_count": 36,
      "outputs": []
    },
    {
      "cell_type": "code",
      "source": [
        "embedding_dim = 256\n",
        "hidden_dim = 256\n",
        "output_dim = 3\n",
        "\n",
        "num_epochs = 10\n",
        "learning_rate = 0.01\n",
        "batch_size = 64\n",
        "\n",
        "train_data_size = 0.8\n",
        "valid_data_size = 0.1\n",
        "testing_size = 0.1\n",
        "\n",
        "print('==== Loading Data ====')\n",
        "train_data, valid_data, test_data, vocab = load_data(train_data_size, valid_data_size, testing_size)\n",
        "\n",
        "print('==== Creating Model ====')\n",
        "model = SentimentClassifier(embedding_dim, vocab, hidden_dim, output_dim)\n",
        "\n",
        "print('==== Training Model ====')\n",
        "optimizer = optim.Adam(model.parameters(), lr=learning_rate)\n",
        "\n",
        "for epoch in range(num_epochs):\n",
        "  random.shuffle(train_data)\n",
        "  model.train()\n",
        "  print('Starting epoch: ' + str(epoch))\n",
        "  loss = 0\n",
        "  count = 0\n",
        "\n",
        "  for i in tqdm.tqdm(range(0, len(train_data), batch_size)):\n",
        "    batch = train_data[i:i+batch_size]\n",
        "\n",
        "    for single in batch:\n",
        "      count += 1\n",
        "      optimizer.zero_grad()\n",
        "      model.zero_grad()\n",
        "\n",
        "      embeddings = []\n",
        "      labels = [single[1]]\n",
        "      temp = single[0].translate(str.maketrans('', '', string.punctuation))\n",
        "      for word in temp.split():\n",
        "        if word.lower() in model.vocab:\n",
        "          embeddings.append(model.vocab.index(word.lower()))\n",
        "        else:\n",
        "          embeddings.append(model.vocab.index('<unk>'))\n",
        "\n",
        "      embeddings = F.pad(torch.tensor(embeddings, dtype=torch.int64), (0, embedding_dim - len(embeddings)), value=0)\n",
        "      labels = torch.tensor(labels, dtype=torch.int64)\n",
        "\n",
        "      predictions = model(embeddings)\n",
        "      loss += model.compute_loss(predictions, labels)\n",
        "      optimizer.step()\n",
        "  epoch_loss = loss / len(train_data)\n",
        "  print('Epoch: ' + str(epoch) + ' | Loss: ' + str(epoch_loss))\n",
        "print('==== Evaluating Model ====')\n",
        ""
      ],
      "metadata": {
        "colab": {
          "base_uri": "https://localhost:8080/"
        },
        "id": "iKfmUCLKI_Bk",
        "outputId": "a478939a-1f3c-406d-f7d8-72fb7983271c"
      },
      "execution_count": 42,
      "outputs": [
        {
          "output_type": "stream",
          "name": "stdout",
          "text": [
            "==== Loading Data ====\n",
            "==== Creating Model ====\n",
            "==== Training Model ====\n",
            "Starting epoch: 0\n"
          ]
        },
        {
          "output_type": "stream",
          "name": "stderr",
          "text": [
            "100%|██████████| 120/120 [01:05<00:00,  1.83it/s]\n"
          ]
        },
        {
          "output_type": "stream",
          "name": "stdout",
          "text": [
            "Epoch: 0 | Loss: 1.39324076499869\n",
            "Starting epoch: 1\n"
          ]
        },
        {
          "output_type": "stream",
          "name": "stderr",
          "text": [
            "100%|██████████| 120/120 [01:03<00:00,  1.88it/s]\n"
          ]
        },
        {
          "output_type": "stream",
          "name": "stdout",
          "text": [
            "Epoch: 1 | Loss: 1.1152737752161384\n",
            "Starting epoch: 2\n"
          ]
        },
        {
          "output_type": "stream",
          "name": "stderr",
          "text": [
            "100%|██████████| 120/120 [01:02<00:00,  1.92it/s]\n"
          ]
        },
        {
          "output_type": "stream",
          "name": "stdout",
          "text": [
            "Epoch: 2 | Loss: 0.8052135184700027\n",
            "Starting epoch: 3\n"
          ]
        },
        {
          "output_type": "stream",
          "name": "stderr",
          "text": [
            "100%|██████████| 120/120 [01:01<00:00,  1.96it/s]\n"
          ]
        },
        {
          "output_type": "stream",
          "name": "stdout",
          "text": [
            "Epoch: 3 | Loss: 0.5009169504846738\n",
            "Starting epoch: 4\n"
          ]
        },
        {
          "output_type": "stream",
          "name": "stderr",
          "text": [
            "100%|██████████| 120/120 [00:59<00:00,  2.03it/s]\n"
          ]
        },
        {
          "output_type": "stream",
          "name": "stdout",
          "text": [
            "Epoch: 4 | Loss: 0.2813728058684831\n",
            "Starting epoch: 5\n"
          ]
        },
        {
          "output_type": "stream",
          "name": "stderr",
          "text": [
            "100%|██████████| 120/120 [00:59<00:00,  2.01it/s]\n"
          ]
        },
        {
          "output_type": "stream",
          "name": "stdout",
          "text": [
            "Epoch: 5 | Loss: 0.14540214828399267\n",
            "Starting epoch: 6\n"
          ]
        },
        {
          "output_type": "stream",
          "name": "stderr",
          "text": [
            "100%|██████████| 120/120 [01:00<00:00,  2.00it/s]\n"
          ]
        },
        {
          "output_type": "stream",
          "name": "stdout",
          "text": [
            "Epoch: 6 | Loss: 0.07165313073094053\n",
            "Starting epoch: 7\n"
          ]
        },
        {
          "output_type": "stream",
          "name": "stderr",
          "text": [
            "100%|██████████| 120/120 [01:00<00:00,  1.97it/s]\n"
          ]
        },
        {
          "output_type": "stream",
          "name": "stdout",
          "text": [
            "Epoch: 7 | Loss: 0.034058160859313596\n",
            "Starting epoch: 8\n"
          ]
        },
        {
          "output_type": "stream",
          "name": "stderr",
          "text": [
            "100%|██████████| 120/120 [01:00<00:00,  1.99it/s]\n"
          ]
        },
        {
          "output_type": "stream",
          "name": "stdout",
          "text": [
            "Epoch: 8 | Loss: 0.014278228975635316\n",
            "Starting epoch: 9\n"
          ]
        },
        {
          "output_type": "stream",
          "name": "stderr",
          "text": [
            "100%|██████████| 120/120 [01:00<00:00,  2.00it/s]"
          ]
        },
        {
          "output_type": "stream",
          "name": "stdout",
          "text": [
            "Epoch: 9 | Loss: 0.003536809012313335\n",
            "==== Evaluating Model ====\n"
          ]
        },
        {
          "output_type": "stream",
          "name": "stderr",
          "text": [
            "\n"
          ]
        }
      ]
    },
    {
      "cell_type": "code",
      "source": [
        "random.shuffle(valid_data)\n",
        "model.eval()\n",
        "\n",
        "for single in tqdm.tqdm(valid_data):\n",
        "  optimizer.zero_grad()\n",
        "  model.zero_grad()\n",
        "\n",
        "  embeddings = []\n",
        "  labels = [single[1]]\n",
        "  temp = single[0].translate(str.maketrans('', '', string.punctuation))\n",
        "  for word in temp.split():\n",
        "    if word.lower() in model.vocab:\n",
        "      embeddings.append(model.vocab.index(word.lower()))\n",
        "    else:\n",
        "      embeddings.append(model.vocab.index('<unk>'))\n",
        "\n",
        "  embeddings = F.pad(torch.tensor(embeddings, dtype=torch.int64), (0, embedding_dim - len(embeddings)), value=0)\n",
        "  labels = torch.tensor(labels, dtype=torch.int64)\n",
        "\n",
        "  predictions = model(embeddings)\n",
        "  loss += model.compute_loss(predictions, labels)\n",
        "  optimizer.step()\n",
        "print('Loss: ' + str(loss / len(valid_data)))"
      ],
      "metadata": {
        "colab": {
          "base_uri": "https://localhost:8080/"
        },
        "id": "YvG_Z5Ndrar3",
        "outputId": "ea3ea5c1-1604-4896-ee67-e882365c3513"
      },
      "execution_count": 46,
      "outputs": [
        {
          "output_type": "stream",
          "name": "stderr",
          "text": [
            "100%|██████████| 954/954 [00:08<00:00, 107.10it/s]"
          ]
        },
        {
          "output_type": "stream",
          "name": "stdout",
          "text": [
            "Loss: 1.5628930817610063\n"
          ]
        },
        {
          "output_type": "stream",
          "name": "stderr",
          "text": [
            "\n"
          ]
        }
      ]
    }
  ]
}