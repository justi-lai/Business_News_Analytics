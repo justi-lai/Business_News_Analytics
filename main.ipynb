{
  "nbformat": 4,
  "nbformat_minor": 0,
  "metadata": {
    "colab": {
      "provenance": [],
      "authorship_tag": "ABX9TyPTa96Un7uvfyxmhrlJ1vjQ",
      "include_colab_link": true
    },
    "kernelspec": {
      "name": "python3",
      "display_name": "Python 3"
    },
    "language_info": {
      "name": "python"
    }
  },
  "cells": [
    {
      "cell_type": "markdown",
      "metadata": {
        "id": "view-in-github",
        "colab_type": "text"
      },
      "source": [
        "<a href=\"https://colab.research.google.com/github/justi-lai/Business_News_Analytics/blob/main/main.ipynb\" target=\"_parent\"><img src=\"https://colab.research.google.com/assets/colab-badge.svg\" alt=\"Open In Colab\"/></a>"
      ]
    },
    {
      "cell_type": "code",
      "execution_count": 32,
      "metadata": {
        "id": "5P6d-1r2ePNa"
      },
      "outputs": [],
      "source": [
        "import torch\n",
        "import torch.nn as nn\n",
        "import torch.nn.functional as F\n",
        "import torch.optim as optim\n",
        "import requests\n",
        "import json\n",
        "import numpy as np\n",
        "import pandas as pd\n",
        "import string\n",
        "import random\n"
      ]
    },
    {
      "cell_type": "code",
      "source": [
        "def load_data(train_data_size, valid_data_size, testing_size):\n",
        "  apikey = '602a1f9dab464b98b1628cf062fb6b27'\n",
        "  url = 'https://newsapi.org/v2/top-headlines'\n",
        "\n",
        "  params = {\n",
        "      \"country\": \"us\",\n",
        "      \"category\": \"business\",\n",
        "      \"apiKey\": apikey\n",
        "  }\n",
        "\n",
        "  response = requests.get(url, params)\n",
        "\n",
        "  if response.status_code == 200:\n",
        "      print(\"Success\")\n",
        "  else:\n",
        "      print(\"Error\")\n",
        "\n",
        "  train_data = response.json()\n",
        "\n",
        "  splits = {'train': 'sent_train.csv', 'validation': 'sent_valid.csv'}\n",
        "  df = pd.read_csv(\"hf://datasets/zeroshot/twitter-financial-news-sentiment/\" + splits[\"train\"])\n",
        "\n",
        "  data = df.to_numpy()\n",
        "  train_data = data[:int(train_data_size * len(data))]\n",
        "  valid_data = data[int(train_data_size * len(data)):int((train_data_size + valid_data_size) * len(data))]\n",
        "  test_data = data[int((train_data_size + valid_data_size) * len(data)):]\n",
        "\n",
        "  vocab = []\n",
        "  vocab.append('<unk>')\n",
        "  for i in train_data:\n",
        "    temp = i[0].translate(str.maketrans('', '', string.punctuation))\n",
        "    for j in temp.split():\n",
        "      word = j.lower()\n",
        "      if 'http' in word:\n",
        "        continue\n",
        "      if word not in vocab:\n",
        "        vocab.append(word)\n",
        "\n",
        "  return train_data, valid_data, test_data, vocab"
      ],
      "metadata": {
        "id": "jzCJxy6t1A_4"
      },
      "execution_count": 45,
      "outputs": []
    },
    {
      "cell_type": "code",
      "source": [
        "class SentimentClassifier(nn.Module):\n",
        "  def __init__(self, embedding_dim, vocab, hidden_dim, output_dim):\n",
        "    super(SentimentClassifier, self).__init__()\n",
        "    self.vocab = vocab\n",
        "    self.embedding_dim = embedding_dim\n",
        "    self.hidden_dim = hidden_dim\n",
        "    self.output_dim = output_dim\n",
        "    self.embedding = torch.Embedding(len(vocab), embedding_dim)\n",
        "    self.rnn = nn.LSTM(embedding_dim, hidden_dim)\n",
        "    self.fc = nn.Linear(hidden_dim, output_dim)\n",
        "\n",
        "  def forward(self, x):\n",
        "    embedded = self.embedding(x)\n",
        "    output, (hidden, cell) = self.rnn(embedded)\n",
        "    prediction = self.fc(hidden.squeeze(0))\n",
        "    result = F.softmax(prediction, dim=1)\n",
        "    return prediction\n",
        "\n",
        "  def compute_loss(self, x, y):\n",
        "    loss = F.cross_entropy(x, y)\n",
        "    return loss\n",
        "\n"
      ],
      "metadata": {
        "id": "LOe8tk9sBQ6S"
      },
      "execution_count": 40,
      "outputs": []
    },
    {
      "cell_type": "code",
      "source": [
        "embedding_dim = 256\n",
        "hidden_dim = 256\n",
        "output_dim = 3\n",
        "\n",
        "num_epochs = 10\n",
        "learning_rate = 0.01\n",
        "batch_size = 64\n",
        "\n",
        "train_data_size = 0.8\n",
        "valid_data_size = 0.1\n",
        "testing_size = 0.1\n",
        "\n",
        "print('==== Loading Data ====')\n",
        "train_data, valid_data, test_data, vocab = load_data(train_data_size, valid_data_size, testing_size)\n",
        "\n",
        "print('==== Creating Model ====')\n",
        "model = SentimentClassifier(embedding_dim, vocab, hidden_dim, output_dim)\n",
        "\n",
        "print('==== Training Model ====')\n",
        "optimizer = optim.Adam(model.parameters(), lr=learning_rate)\n",
        "\n",
        "for epoch in range(num_epochs):\n",
        "  random.shuffle(train_data)\n",
        "  model.train()\n",
        "  print('Starting epoch: ' + str(epoch))\n",
        "\n",
        "  for i in range(0, len(train_data), batch_size):\n",
        "    batch = train_data[i:i+batch_size]\n",
        "\n",
        "    for single in batch:\n",
        "      optimizer.zero_grad()\n",
        "      model.zero_grad()\n",
        "\n",
        "      embeddings = []\n",
        "      labels = []\n",
        "      for j in single:\n",
        "        temp = j[0].translate(str.maketrans('', '', string.punctuation))\n",
        "        labels.append(j[1])\n",
        "        for k in temp.split():\n",
        "          word = k.lower()\n",
        "          if 'http' in word:\n",
        "            continue\n",
        "          if word in vocab:\n",
        "            embeddings.append(vocab.index(word))\n",
        "\n",
        "      embeddings = F.pad(torch.tensor(embeddings), (0, embedding_dim - len(embeddings)), value=0)\n",
        "      labels = torch.tensor(labels)\n",
        "\n",
        "      predictions = model(embeddings)\n",
        "      loss = model.compute_loss(predictions, labels)\n",
        "      loss.backward()\n",
        "      optimizer.step()\n",
        "      print('Loss: ' + str(loss.item()))\n",
        "\n",
        "    print('Epoch: ' + str(epoch) + ' | Loss: ' + str(loss.item()))\n",
        "\n",
        "print('==== Evaluating Model ====')\n",
        ""
      ],
      "metadata": {
        "colab": {
          "base_uri": "https://localhost:8080/",
          "height": 408
        },
        "id": "iKfmUCLKI_Bk",
        "outputId": "624c25ff-d602-46ad-eeba-0d7fc2562c86"
      },
      "execution_count": 46,
      "outputs": [
        {
          "output_type": "stream",
          "name": "stdout",
          "text": [
            "==== Loading Data ====\n",
            "Success\n",
            "==== Creating Model ====\n"
          ]
        },
        {
          "output_type": "error",
          "ename": "AttributeError",
          "evalue": "module 'torch' has no attribute 'Embedding'",
          "traceback": [
            "\u001b[0;31m---------------------------------------------------------------------------\u001b[0m",
            "\u001b[0;31mAttributeError\u001b[0m                            Traceback (most recent call last)",
            "\u001b[0;32m<ipython-input-46-e714203e1026>\u001b[0m in \u001b[0;36m<cell line: 17>\u001b[0;34m()\u001b[0m\n\u001b[1;32m     15\u001b[0m \u001b[0;34m\u001b[0m\u001b[0m\n\u001b[1;32m     16\u001b[0m \u001b[0mprint\u001b[0m\u001b[0;34m(\u001b[0m\u001b[0;34m'==== Creating Model ===='\u001b[0m\u001b[0;34m)\u001b[0m\u001b[0;34m\u001b[0m\u001b[0;34m\u001b[0m\u001b[0m\n\u001b[0;32m---> 17\u001b[0;31m \u001b[0mmodel\u001b[0m \u001b[0;34m=\u001b[0m \u001b[0mSentimentClassifier\u001b[0m\u001b[0;34m(\u001b[0m\u001b[0membedding_dim\u001b[0m\u001b[0;34m,\u001b[0m \u001b[0mvocab\u001b[0m\u001b[0;34m,\u001b[0m \u001b[0mhidden_dim\u001b[0m\u001b[0;34m,\u001b[0m \u001b[0moutput_dim\u001b[0m\u001b[0;34m)\u001b[0m\u001b[0;34m\u001b[0m\u001b[0;34m\u001b[0m\u001b[0m\n\u001b[0m\u001b[1;32m     18\u001b[0m \u001b[0;34m\u001b[0m\u001b[0m\n\u001b[1;32m     19\u001b[0m \u001b[0mprint\u001b[0m\u001b[0;34m(\u001b[0m\u001b[0;34m'==== Training Model ===='\u001b[0m\u001b[0;34m)\u001b[0m\u001b[0;34m\u001b[0m\u001b[0;34m\u001b[0m\u001b[0m\n",
            "\u001b[0;32m<ipython-input-40-1eb3269e8123>\u001b[0m in \u001b[0;36m__init__\u001b[0;34m(self, embedding_dim, hidden_dim, output_dim, num_layers)\u001b[0m\n\u001b[1;32m      2\u001b[0m   \u001b[0;32mdef\u001b[0m \u001b[0m__init__\u001b[0m\u001b[0;34m(\u001b[0m\u001b[0mself\u001b[0m\u001b[0;34m,\u001b[0m \u001b[0membedding_dim\u001b[0m\u001b[0;34m,\u001b[0m \u001b[0mhidden_dim\u001b[0m\u001b[0;34m,\u001b[0m \u001b[0moutput_dim\u001b[0m\u001b[0;34m,\u001b[0m \u001b[0mnum_layers\u001b[0m\u001b[0;34m)\u001b[0m\u001b[0;34m:\u001b[0m\u001b[0;34m\u001b[0m\u001b[0;34m\u001b[0m\u001b[0m\n\u001b[1;32m      3\u001b[0m     \u001b[0msuper\u001b[0m\u001b[0;34m(\u001b[0m\u001b[0mSentimentClassifier\u001b[0m\u001b[0;34m,\u001b[0m \u001b[0mself\u001b[0m\u001b[0;34m)\u001b[0m\u001b[0;34m.\u001b[0m\u001b[0m__init__\u001b[0m\u001b[0;34m(\u001b[0m\u001b[0;34m)\u001b[0m\u001b[0;34m\u001b[0m\u001b[0;34m\u001b[0m\u001b[0m\n\u001b[0;32m----> 4\u001b[0;31m     \u001b[0mself\u001b[0m\u001b[0;34m.\u001b[0m\u001b[0membedding\u001b[0m \u001b[0;34m=\u001b[0m \u001b[0mtorch\u001b[0m\u001b[0;34m.\u001b[0m\u001b[0mEmbedding\u001b[0m\u001b[0;34m(\u001b[0m\u001b[0mlen\u001b[0m\u001b[0;34m(\u001b[0m\u001b[0mvocab\u001b[0m\u001b[0;34m)\u001b[0m\u001b[0;34m,\u001b[0m \u001b[0membedding_dim\u001b[0m\u001b[0;34m)\u001b[0m\u001b[0;34m\u001b[0m\u001b[0;34m\u001b[0m\u001b[0m\n\u001b[0m\u001b[1;32m      5\u001b[0m     \u001b[0mself\u001b[0m\u001b[0;34m.\u001b[0m\u001b[0mrnn\u001b[0m \u001b[0;34m=\u001b[0m \u001b[0mnn\u001b[0m\u001b[0;34m.\u001b[0m\u001b[0mLSTM\u001b[0m\u001b[0;34m(\u001b[0m\u001b[0membedding_dim\u001b[0m\u001b[0;34m,\u001b[0m \u001b[0mhidden_dim\u001b[0m\u001b[0;34m,\u001b[0m \u001b[0mnum_layers\u001b[0m\u001b[0;34m)\u001b[0m\u001b[0;34m\u001b[0m\u001b[0;34m\u001b[0m\u001b[0m\n\u001b[1;32m      6\u001b[0m     \u001b[0mself\u001b[0m\u001b[0;34m.\u001b[0m\u001b[0mfc\u001b[0m \u001b[0;34m=\u001b[0m \u001b[0mnn\u001b[0m\u001b[0;34m.\u001b[0m\u001b[0mLinear\u001b[0m\u001b[0;34m(\u001b[0m\u001b[0mhidden_dim\u001b[0m\u001b[0;34m,\u001b[0m \u001b[0moutput_dim\u001b[0m\u001b[0;34m)\u001b[0m\u001b[0;34m\u001b[0m\u001b[0;34m\u001b[0m\u001b[0m\n",
            "\u001b[0;32m/usr/local/lib/python3.10/dist-packages/torch/__init__.py\u001b[0m in \u001b[0;36m__getattr__\u001b[0;34m(name)\u001b[0m\n\u001b[1;32m   2561\u001b[0m             \u001b[0;32mreturn\u001b[0m \u001b[0mimportlib\u001b[0m\u001b[0;34m.\u001b[0m\u001b[0mimport_module\u001b[0m\u001b[0;34m(\u001b[0m\u001b[0;34mf\".{name}\"\u001b[0m\u001b[0;34m,\u001b[0m \u001b[0m__name__\u001b[0m\u001b[0;34m)\u001b[0m\u001b[0;34m\u001b[0m\u001b[0;34m\u001b[0m\u001b[0m\n\u001b[1;32m   2562\u001b[0m \u001b[0;34m\u001b[0m\u001b[0m\n\u001b[0;32m-> 2563\u001b[0;31m         \u001b[0;32mraise\u001b[0m \u001b[0mAttributeError\u001b[0m\u001b[0;34m(\u001b[0m\u001b[0;34mf\"module '{__name__}' has no attribute '{name}'\"\u001b[0m\u001b[0;34m)\u001b[0m\u001b[0;34m\u001b[0m\u001b[0;34m\u001b[0m\u001b[0m\n\u001b[0m\u001b[1;32m   2564\u001b[0m \u001b[0;34m\u001b[0m\u001b[0m\n\u001b[1;32m   2565\u001b[0m \u001b[0;34m\u001b[0m\u001b[0m\n",
            "\u001b[0;31mAttributeError\u001b[0m: module 'torch' has no attribute 'Embedding'"
          ]
        }
      ]
    }
  ]
}